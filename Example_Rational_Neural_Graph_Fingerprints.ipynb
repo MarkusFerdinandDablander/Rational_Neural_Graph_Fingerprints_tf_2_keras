{
 "cells": [
  {
   "cell_type": "markdown",
   "metadata": {},
   "source": [
    "# Example Application of Rational Neural Graph Fingerprints to Predict Water Solubility of Molecules \n",
    "# Delaney Data Set"
   ]
  },
  {
   "cell_type": "code",
   "execution_count": 5,
   "metadata": {},
   "outputs": [],
   "source": [
    "# import packages\n",
    "\n",
    "import sys\n",
    "import numpy as np\n",
    "import pandas as pd\n",
    "import tensorflow as tf\n",
    "\n",
    "from rdkit import Chem\n",
    "from tensorflow.keras.layers import Input, Dense, Add\n",
    "from tensorflow.keras import models\n",
    "\n",
    "from rational_neural_graph_fingerprints.auxiliary_functions_graph_tensorisation import tensorise_smiles\n",
    "from rational_neural_graph_fingerprints.tf_keras_layers_rational_neural_graph_convolutions import RationalNeuralFingerprintOutput, DeepRationalNeuralFingerprintHidden"
   ]
  },
  {
   "cell_type": "code",
   "execution_count": 7,
   "metadata": {},
   "outputs": [
    {
     "name": "stdout",
     "output_type": "stream",
     "text": [
      "Smiles =  (1128,)\n",
      "Labels =  (1128, 1) <class 'numpy.float32'>\n"
     ]
    },
    {
     "data": {
      "text/html": [
       "<div>\n",
       "<style scoped>\n",
       "    .dataframe tbody tr th:only-of-type {\n",
       "        vertical-align: middle;\n",
       "    }\n",
       "\n",
       "    .dataframe tbody tr th {\n",
       "        vertical-align: top;\n",
       "    }\n",
       "\n",
       "    .dataframe thead th {\n",
       "        text-align: right;\n",
       "    }\n",
       "</style>\n",
       "<table border=\"1\" class=\"dataframe\">\n",
       "  <thead>\n",
       "    <tr style=\"text-align: right;\">\n",
       "      <th></th>\n",
       "      <th>Compound ID</th>\n",
       "      <th>ESOL predicted log solubility in mols per litre</th>\n",
       "      <th>Minimum Degree</th>\n",
       "      <th>Molecular Weight</th>\n",
       "      <th>Number of H-Bond Donors</th>\n",
       "      <th>Number of Rings</th>\n",
       "      <th>Number of Rotatable Bonds</th>\n",
       "      <th>Polar Surface Area</th>\n",
       "      <th>measured log solubility in mols per litre</th>\n",
       "      <th>smiles</th>\n",
       "    </tr>\n",
       "  </thead>\n",
       "  <tbody>\n",
       "    <tr>\n",
       "      <th>0</th>\n",
       "      <td>Amigdalin</td>\n",
       "      <td>-0.974</td>\n",
       "      <td>1</td>\n",
       "      <td>457.432</td>\n",
       "      <td>7</td>\n",
       "      <td>3</td>\n",
       "      <td>7</td>\n",
       "      <td>202.32</td>\n",
       "      <td>-0.77</td>\n",
       "      <td>OCC3OC(OCC2OC(OC(C#N)c1ccccc1)C(O)C(O)C2O)C(O)...</td>\n",
       "    </tr>\n",
       "    <tr>\n",
       "      <th>1</th>\n",
       "      <td>Fenfuram</td>\n",
       "      <td>-2.885</td>\n",
       "      <td>1</td>\n",
       "      <td>201.225</td>\n",
       "      <td>1</td>\n",
       "      <td>2</td>\n",
       "      <td>2</td>\n",
       "      <td>42.24</td>\n",
       "      <td>-3.30</td>\n",
       "      <td>Cc1occc1C(=O)Nc2ccccc2</td>\n",
       "    </tr>\n",
       "    <tr>\n",
       "      <th>2</th>\n",
       "      <td>citral</td>\n",
       "      <td>-2.579</td>\n",
       "      <td>1</td>\n",
       "      <td>152.237</td>\n",
       "      <td>0</td>\n",
       "      <td>0</td>\n",
       "      <td>4</td>\n",
       "      <td>17.07</td>\n",
       "      <td>-2.06</td>\n",
       "      <td>CC(C)=CCCC(C)=CC(=O)</td>\n",
       "    </tr>\n",
       "    <tr>\n",
       "      <th>3</th>\n",
       "      <td>Picene</td>\n",
       "      <td>-6.618</td>\n",
       "      <td>2</td>\n",
       "      <td>278.354</td>\n",
       "      <td>0</td>\n",
       "      <td>5</td>\n",
       "      <td>0</td>\n",
       "      <td>0.00</td>\n",
       "      <td>-7.87</td>\n",
       "      <td>c1ccc2c(c1)ccc3c2ccc4c5ccccc5ccc43</td>\n",
       "    </tr>\n",
       "    <tr>\n",
       "      <th>4</th>\n",
       "      <td>Thiophene</td>\n",
       "      <td>-2.232</td>\n",
       "      <td>2</td>\n",
       "      <td>84.143</td>\n",
       "      <td>0</td>\n",
       "      <td>1</td>\n",
       "      <td>0</td>\n",
       "      <td>0.00</td>\n",
       "      <td>-1.33</td>\n",
       "      <td>c1ccsc1</td>\n",
       "    </tr>\n",
       "  </tbody>\n",
       "</table>\n",
       "</div>"
      ],
      "text/plain": [
       "  Compound ID  ESOL predicted log solubility in mols per litre  \\\n",
       "0   Amigdalin                                           -0.974   \n",
       "1    Fenfuram                                           -2.885   \n",
       "2      citral                                           -2.579   \n",
       "3      Picene                                           -6.618   \n",
       "4   Thiophene                                           -2.232   \n",
       "\n",
       "   Minimum Degree  Molecular Weight  Number of H-Bond Donors  Number of Rings  \\\n",
       "0               1           457.432                        7                3   \n",
       "1               1           201.225                        1                2   \n",
       "2               1           152.237                        0                0   \n",
       "3               2           278.354                        0                5   \n",
       "4               2            84.143                        0                1   \n",
       "\n",
       "   Number of Rotatable Bonds  Polar Surface Area  \\\n",
       "0                          7              202.32   \n",
       "1                          2               42.24   \n",
       "2                          4               17.07   \n",
       "3                          0                0.00   \n",
       "4                          0                0.00   \n",
       "\n",
       "   measured log solubility in mols per litre  \\\n",
       "0                                      -0.77   \n",
       "1                                      -3.30   \n",
       "2                                      -2.06   \n",
       "3                                      -7.87   \n",
       "4                                      -1.33   \n",
       "\n",
       "                                              smiles  \n",
       "0  OCC3OC(OCC2OC(OC(C#N)c1ccccc1)C(O)C(O)C2O)C(O)...  \n",
       "1                             Cc1occc1C(=O)Nc2ccccc2  \n",
       "2                               CC(C)=CCCC(C)=CC(=O)  \n",
       "3                 c1ccc2c(c1)ccc3c2ccc4c5ccccc5ccc43  \n",
       "4                                            c1ccsc1  "
      ]
     },
     "metadata": {},
     "output_type": "display_data"
    },
    {
     "name": "stdout",
     "output_type": "stream",
     "text": [
      "-2.9881923\n",
      "1.6824735\n"
     ]
    }
   ],
   "source": [
    "# load and prepare data\n",
    "\n",
    "filepath = 'data_delaney.csv'\n",
    "delaney_df = pd.read_csv(filepath, delimiter = ',')\n",
    "\n",
    "smiles = delaney_df.values[:,9]\n",
    "labels = np.array(delaney_df.values[:,1], dtype = np.float32)\n",
    "labels = np.reshape(labels, (len(labels),1))\n",
    "\n",
    "print(\"Smiles = \", smiles.shape)\n",
    "print(\"Labels = \", labels.shape, type(labels[0][0]))\n",
    "display(delaney_df.head())\n",
    "\n",
    "#print(labels)\n",
    "print(np.mean(labels[:]))\n",
    "print(np.std(labels[:]))\n",
    "#rint(labels)"
   ]
  },
  {
   "cell_type": "code",
   "execution_count": 9,
   "metadata": {
    "scrolled": true
   },
   "outputs": [
    {
     "name": "stdout",
     "output_type": "stream",
     "text": [
      "Atoms: (1128, 55, 62) <class 'numpy.float32'>\n",
      "Bonds: (1128, 55, 4, 6) <class 'numpy.float32'>\n",
      "Edges: (1128, 55, 4) <class 'numpy.float32'>\n",
      "Atoms_Existence: (1128, 55) <class 'numpy.float32'>\n"
     ]
    }
   ],
   "source": [
    "# tensorise smiles strings of molecules\n",
    "\n",
    "(X_atoms, X_bonds, X_edges, X_atoms_existence) = tensorise_smiles(smiles, max_degree = None)\n",
    "print('Atoms:', X_atoms.shape, type(X_atoms[0][0][0]))\n",
    "print('Bonds:', X_bonds.shape, type(X_bonds[0][0][0][0]))\n",
    "print('Edges:', X_edges.shape, type(X_edges[0][0][0]))\n",
    "print('Atoms_Existence:', X_atoms_existence.shape, type(X_atoms_existence[0][0]))"
   ]
  },
  {
   "cell_type": "code",
   "execution_count": 10,
   "metadata": {},
   "outputs": [
    {
     "name": "stdout",
     "output_type": "stream",
     "text": [
      " Number of Molecules =  1128 \n",
      " Maximum Number of Atoms in a Molecule =  55 \n",
      " Maximum Atom Degree =  4 \n",
      " Number of Atom Features =  62 \n",
      " Number of Bond Features =  6\n"
     ]
    }
   ],
   "source": [
    "# load dimensional sizes from data shape\n",
    "\n",
    "num_molecules = X_atoms.shape[0]\n",
    "max_atoms = X_atoms.shape[1]\n",
    "max_degree = X_bonds.shape[2]\n",
    "num_atom_features = X_atoms.shape[-1]\n",
    "num_bond_features = X_bonds.shape[-1]\n",
    "\n",
    "print(\" Number of Molecules = \", num_molecules,\"\\n\", \n",
    "      \"Maximum Number of Atoms in a Molecule = \",  max_atoms,\"\\n\",  \n",
    "      \"Maximum Atom Degree = \", max_degree,\"\\n\",  \n",
    "      \"Number of Atom Features = \", num_atom_features,\"\\n\",  \n",
    "      \"Number of Bond Features = \", num_bond_features)"
   ]
  },
  {
   "cell_type": "code",
   "execution_count": 17,
   "metadata": {},
   "outputs": [],
   "source": [
    "# set hyperparameters\n",
    "\n",
    "conv_width = 62 #  output dimension of neural networks associated with hidden graph convolutional layers\n",
    "\n",
    "output_hidden_length = 68 # dimension of the hidden layer of neural networks associated with output graph convolutional layers\n",
    "output_fp_length = 68 # output dimension of neural networks associated with output graph convolutional layers"
   ]
  },
  {
   "cell_type": "code",
   "execution_count": 18,
   "metadata": {},
   "outputs": [],
   "source": [
    "# define the input layers\n",
    "\n",
    "atoms_0 = Input(name = 'atom_inputs', shape = (max_atoms, num_atom_features))\n",
    "bonds = Input(name = 'bond_inputs', shape = (max_atoms, max_degree, num_bond_features))\n",
    "edges = Input(name = 'edge_inputs', shape = (max_atoms, max_degree))\n",
    "atoms_existence = Input(name = 'atoms_existence_inputs', shape=(max_atoms,))"
   ]
  },
  {
   "cell_type": "code",
   "execution_count": 19,
   "metadata": {},
   "outputs": [],
   "source": [
    "# define the convoluted atom feature layers\n",
    "\n",
    "atoms_1 = DeepRationalNeuralFingerprintHidden(conv_width)([atoms_0, bonds, edges, atoms_existence])\n",
    "atoms_2 = DeepRationalNeuralFingerprintHidden(conv_width)([atoms_1, bonds, edges, atoms_existence])"
   ]
  },
  {
   "cell_type": "code",
   "execution_count": 20,
   "metadata": {},
   "outputs": [],
   "source": [
    "# define the output layers for each convoluted atom featuer layer (layerwise neural fingerprints)\n",
    "\n",
    "fp_out_0 = RationalNeuralFingerprintOutput(output_hidden_length, output_fp_length)([atoms_0, bonds, edges, atoms_existence])\n",
    "fp_out_1 = RationalNeuralFingerprintOutput(output_hidden_length, output_fp_length)([atoms_1, bonds, edges, atoms_existence])\n",
    "fp_out_2 = RationalNeuralFingerprintOutput(output_hidden_length, output_fp_length)([atoms_2, bonds, edges, atoms_existence])"
   ]
  },
  {
   "cell_type": "code",
   "execution_count": 21,
   "metadata": {},
   "outputs": [],
   "source": [
    "# sum outputs to obtain fingerprint\n",
    "\n",
    "final_fp = Add()([fp_out_0, fp_out_1, fp_out_2])"
   ]
  },
  {
   "cell_type": "code",
   "execution_count": 22,
   "metadata": {},
   "outputs": [],
   "source": [
    "# define neural machinery on top of neural fingerprints\n",
    "\n",
    "intermediate_prediction = Dense(30, activation = tf.keras.activations.relu, use_bias = True, name = 'intermediate_prediction')(final_fp)\n",
    "main_prediction = Dense(1, activation = 'linear', use_bias = True, name = 'main_prediction')(intermediate_prediction)"
   ]
  },
  {
   "cell_type": "code",
   "execution_count": 23,
   "metadata": {},
   "outputs": [],
   "source": [
    "# build and compile model for regression.\n",
    "\n",
    "model = models.Model(inputs = [atoms_0, bonds, edges, atoms_existence], outputs = [main_prediction])\n",
    "model.compile(optimizer = tf.keras.optimizers.Adam(learning_rate=0.001), loss = 'mse')"
   ]
  },
  {
   "cell_type": "code",
   "execution_count": 24,
   "metadata": {},
   "outputs": [
    {
     "name": "stdout",
     "output_type": "stream",
     "text": [
      "Model: \"model\"\n",
      "__________________________________________________________________________________________________\n",
      "Layer (type)                    Output Shape         Param #     Connected to                     \n",
      "==================================================================================================\n",
      "atom_inputs (InputLayer)        [(None, 55, 62)]     0                                            \n",
      "__________________________________________________________________________________________________\n",
      "bond_inputs (InputLayer)        [(None, 55, 4, 6)]   0                                            \n",
      "__________________________________________________________________________________________________\n",
      "edge_inputs (InputLayer)        [(None, 55, 4)]      0                                            \n",
      "__________________________________________________________________________________________________\n",
      "atoms_existence_inputs (InputLa [(None, 55)]         0                                            \n",
      "__________________________________________________________________________________________________\n",
      "deep_rational_neural_fingerprin (None, 55, 62)       19937       atom_inputs[0][0]                \n",
      "                                                                 bond_inputs[0][0]                \n",
      "                                                                 edge_inputs[0][0]                \n",
      "                                                                 atoms_existence_inputs[0][0]     \n",
      "__________________________________________________________________________________________________\n",
      "deep_rational_neural_fingerprin (None, 55, 62)       19937       deep_rational_neural_fingerprint_\n",
      "                                                                 bond_inputs[0][0]                \n",
      "                                                                 edge_inputs[0][0]                \n",
      "                                                                 atoms_existence_inputs[0][0]     \n",
      "__________________________________________________________________________________________________\n",
      "rational_neural_fingerprint_out (None, 68)           9391        atom_inputs[0][0]                \n",
      "                                                                 bond_inputs[0][0]                \n",
      "                                                                 edge_inputs[0][0]                \n",
      "                                                                 atoms_existence_inputs[0][0]     \n",
      "__________________________________________________________________________________________________\n",
      "rational_neural_fingerprint_out (None, 68)           9391        deep_rational_neural_fingerprint_\n",
      "                                                                 bond_inputs[0][0]                \n",
      "                                                                 edge_inputs[0][0]                \n",
      "                                                                 atoms_existence_inputs[0][0]     \n",
      "__________________________________________________________________________________________________\n",
      "rational_neural_fingerprint_out (None, 68)           9391        deep_rational_neural_fingerprint_\n",
      "                                                                 bond_inputs[0][0]                \n",
      "                                                                 edge_inputs[0][0]                \n",
      "                                                                 atoms_existence_inputs[0][0]     \n",
      "__________________________________________________________________________________________________\n",
      "add (Add)                       (None, 68)           0           rational_neural_fingerprint_outpu\n",
      "                                                                 rational_neural_fingerprint_outpu\n",
      "                                                                 rational_neural_fingerprint_outpu\n",
      "__________________________________________________________________________________________________\n",
      "intermediate_prediction (Dense) (None, 30)           2070        add[0][0]                        \n",
      "__________________________________________________________________________________________________\n",
      "main_prediction (Dense)         (None, 1)            31          intermediate_prediction[0][0]    \n",
      "==================================================================================================\n",
      "Total params: 70,148\n",
      "Trainable params: 70,148\n",
      "Non-trainable params: 0\n",
      "__________________________________________________________________________________________________\n"
     ]
    }
   ],
   "source": [
    "# show summary\n",
    "\n",
    "model.summary()"
   ]
  },
  {
   "cell_type": "code",
   "execution_count": 25,
   "metadata": {},
   "outputs": [
    {
     "name": "stdout",
     "output_type": "stream",
     "text": [
      "Epoch 1/10\n",
      "15/15 [==============================] - 2s 156ms/step - loss: 4.8840 - val_loss: 2.1998\n",
      "Epoch 2/10\n",
      "15/15 [==============================] - 2s 104ms/step - loss: 2.1585 - val_loss: 1.8684\n",
      "Epoch 3/10\n",
      "15/15 [==============================] - 2s 104ms/step - loss: 1.8828 - val_loss: 1.8183\n",
      "Epoch 4/10\n",
      "15/15 [==============================] - 2s 103ms/step - loss: 1.7637 - val_loss: 1.6799\n",
      "Epoch 5/10\n",
      "15/15 [==============================] - 2s 104ms/step - loss: 1.5552 - val_loss: 1.2906\n",
      "Epoch 6/10\n",
      "15/15 [==============================] - 2s 106ms/step - loss: 1.0748 - val_loss: 0.9950\n",
      "Epoch 7/10\n",
      "15/15 [==============================] - 2s 100ms/step - loss: 0.6642 - val_loss: 0.4545\n",
      "Epoch 8/10\n",
      "15/15 [==============================] - 2s 103ms/step - loss: 0.4218 - val_loss: 0.6526\n",
      "Epoch 9/10\n",
      "15/15 [==============================] - 2s 106ms/step - loss: 0.4428 - val_loss: 0.3357\n",
      "Epoch 10/10\n",
      "15/15 [==============================] - 2s 104ms/step - loss: 0.3413 - val_loss: 0.3559\n"
     ]
    },
    {
     "data": {
      "text/plain": [
       "<tensorflow.python.keras.callbacks.History at 0x7f77480482d0>"
      ]
     },
     "execution_count": 25,
     "metadata": {},
     "output_type": "execute_result"
    }
   ],
   "source": [
    "# train the model\n",
    "\n",
    "model.fit([X_atoms, X_bonds, X_edges, X_atoms_existence], labels, epochs = 10, batch_size = 2**6, validation_split = 0.2)"
   ]
  }
 ],
 "metadata": {
  "kernelspec": {
   "display_name": "drug_discovery_markus",
   "language": "python",
   "name": "drug_discovery_markus"
  },
  "language_info": {
   "codemirror_mode": {
    "name": "ipython",
    "version": 3
   },
   "file_extension": ".py",
   "mimetype": "text/x-python",
   "name": "python",
   "nbconvert_exporter": "python",
   "pygments_lexer": "ipython3",
   "version": "3.7.7"
  }
 },
 "nbformat": 4,
 "nbformat_minor": 2
}
